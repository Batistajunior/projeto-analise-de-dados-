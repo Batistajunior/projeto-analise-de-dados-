{
 "cells": [
  {
   "cell_type": "code",
   "execution_count": 6,
   "id": "b2e9f34f",
   "metadata": {},
   "outputs": [
    {
     "name": "stdout",
     "output_type": "stream",
     "text": [
      "<Response [200]>\n",
      "{'cep': '87760-000', 'logradouro': '', 'complemento': '', 'bairro': '', 'localidade': 'Tamboara', 'uf': 'PR', 'ibge': '4126702', 'gia': '', 'ddd': '44', 'siafi': '7909'}\n"
     ]
    }
   ],
   "source": [
    "import requests\n",
    "import json\n",
    "\n",
    "cep = \"87760000\"\n",
    "\n",
    "link = f'https://viacep.com.br/ws/{cep}/json'\n",
    "requisicao = requests.get(link)\n",
    "print(requisicao)\n",
    "print(requisicao.json())\n"
   ]
  },
  {
   "cell_type": "code",
   "execution_count": null,
   "id": "310f235f",
   "metadata": {},
   "outputs": [],
   "source": []
  }
 ],
 "metadata": {
  "kernelspec": {
   "display_name": "Python 3 (ipykernel)",
   "language": "python",
   "name": "python3"
  },
  "language_info": {
   "codemirror_mode": {
    "name": "ipython",
    "version": 3
   },
   "file_extension": ".py",
   "mimetype": "text/x-python",
   "name": "python",
   "nbconvert_exporter": "python",
   "pygments_lexer": "ipython3",
   "version": "3.9.13"
  }
 },
 "nbformat": 4,
 "nbformat_minor": 5
}
