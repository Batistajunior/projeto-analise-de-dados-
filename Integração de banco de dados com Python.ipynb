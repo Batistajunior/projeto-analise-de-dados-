{
 "cells": [
  {
   "cell_type": "code",
   "execution_count": 18,
   "id": "c3d36df8",
   "metadata": {},
   "outputs": [
    {
     "name": "stdout",
     "output_type": "stream",
     "text": [
      "     id_residuo  id_usina data_alimentacao  volume_residuo\n",
      "0             1         1       2021-10-13            95.0\n",
      "1             1         2       2021-06-26            10.0\n",
      "2             1         2       2021-10-22            36.0\n",
      "3             1         3       2021-02-28            13.0\n",
      "4             1         3       2021-04-26            10.0\n",
      "..          ...       ...              ...             ...\n",
      "261           9         4       2022-01-08            41.0\n",
      "262           9         5       2021-04-14            67.0\n",
      "263           9         5       2022-01-04            94.0\n",
      "264           9         6       2021-08-29            17.0\n",
      "265           9         7       2021-07-01            99.0\n",
      "\n",
      "[266 rows x 4 columns]\n"
     ]
    },
    {
     "name": "stderr",
     "output_type": "stream",
     "text": [
      "/Users/batistajunior/opt/anaconda3/lib/python3.9/site-packages/pandas/io/sql.py:762: UserWarning: pandas only support SQLAlchemy connectable(engine/connection) ordatabase string URI or sqlite3 DBAPI2 connectionother DBAPI2 objects are not tested, please consider using SQLAlchemy\n",
      "  warnings.warn(\n"
     ]
    }
   ],
   "source": [
    "import pymysql\n",
    "import pyodbc\n",
    "import sqlalchemy as sa\n",
    "import urllib\n",
    "\n",
    "from sqlalchemy.engine.url import URL\n",
    "\n",
    "conn=pymysql.connect(host='localhost',port=int(3306),user='root',passwd= 'ka240817',db='teste_sql')\n",
    "\n",
    "df=a.read_sql_query(\"SELECT * FROM tb_alimentacao \",conn)\n",
    "\n",
    "print(df)"
   ]
  },
  {
   "cell_type": "code",
   "execution_count": 22,
   "id": "c5768047",
   "metadata": {},
   "outputs": [],
   "source": [
    "# Carregando os Dados em um DataFrame\n",
    "##--(foi registrado na tabela 266 linhas e 4 colunas na \"tabela tb_alimentação\")--\n"
   ]
  },
  {
   "cell_type": "code",
   "execution_count": 20,
   "id": "4ddbd84c",
   "metadata": {},
   "outputs": [
    {
     "data": {
      "text/html": [
       "<div>\n",
       "<style scoped>\n",
       "    .dataframe tbody tr th:only-of-type {\n",
       "        vertical-align: middle;\n",
       "    }\n",
       "\n",
       "    .dataframe tbody tr th {\n",
       "        vertical-align: top;\n",
       "    }\n",
       "\n",
       "    .dataframe thead th {\n",
       "        text-align: right;\n",
       "    }\n",
       "</style>\n",
       "<table border=\"1\" class=\"dataframe\">\n",
       "  <thead>\n",
       "    <tr style=\"text-align: right;\">\n",
       "      <th></th>\n",
       "      <th>id_residuo</th>\n",
       "      <th>id_usina</th>\n",
       "      <th>data_alimentacao</th>\n",
       "      <th>volume_residuo</th>\n",
       "    </tr>\n",
       "  </thead>\n",
       "  <tbody>\n",
       "    <tr>\n",
       "      <th>0</th>\n",
       "      <td>1</td>\n",
       "      <td>1</td>\n",
       "      <td>2021-10-13</td>\n",
       "      <td>95.0</td>\n",
       "    </tr>\n",
       "    <tr>\n",
       "      <th>1</th>\n",
       "      <td>1</td>\n",
       "      <td>2</td>\n",
       "      <td>2021-06-26</td>\n",
       "      <td>10.0</td>\n",
       "    </tr>\n",
       "    <tr>\n",
       "      <th>2</th>\n",
       "      <td>1</td>\n",
       "      <td>2</td>\n",
       "      <td>2021-10-22</td>\n",
       "      <td>36.0</td>\n",
       "    </tr>\n",
       "    <tr>\n",
       "      <th>3</th>\n",
       "      <td>1</td>\n",
       "      <td>3</td>\n",
       "      <td>2021-02-28</td>\n",
       "      <td>13.0</td>\n",
       "    </tr>\n",
       "    <tr>\n",
       "      <th>4</th>\n",
       "      <td>1</td>\n",
       "      <td>3</td>\n",
       "      <td>2021-04-26</td>\n",
       "      <td>10.0</td>\n",
       "    </tr>\n",
       "  </tbody>\n",
       "</table>\n",
       "</div>"
      ],
      "text/plain": [
       "   id_residuo  id_usina data_alimentacao  volume_residuo\n",
       "0           1         1       2021-10-13            95.0\n",
       "1           1         2       2021-06-26            10.0\n",
       "2           1         2       2021-10-22            36.0\n",
       "3           1         3       2021-02-28            13.0\n",
       "4           1         3       2021-04-26            10.0"
      ]
     },
     "execution_count": 20,
     "metadata": {},
     "output_type": "execute_result"
    }
   ],
   "source": [
    "df.head()"
   ]
  },
  {
   "cell_type": "code",
   "execution_count": null,
   "id": "f428dc78",
   "metadata": {},
   "outputs": [],
   "source": []
  }
 ],
 "metadata": {
  "kernelspec": {
   "display_name": "Python 3 (ipykernel)",
   "language": "python",
   "name": "python3"
  },
  "language_info": {
   "codemirror_mode": {
    "name": "ipython",
    "version": 3
   },
   "file_extension": ".py",
   "mimetype": "text/x-python",
   "name": "python",
   "nbconvert_exporter": "python",
   "pygments_lexer": "ipython3",
   "version": "3.9.13"
  }
 },
 "nbformat": 4,
 "nbformat_minor": 5
}
